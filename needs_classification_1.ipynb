{
  "cells": [
    {
      "cell_type": "markdown",
      "id": "BPYyGit2iDC3",
      "metadata": {
        "id": "BPYyGit2iDC3"
      },
      "source": [
        "# Notebook Overview: Classifying Human Needs from Text\n",
        "\n",
        "This notebook focuses on the challenging task of need classification. Unlike sentiment analysis, which typically categorizes text as positive or negative, need classification involves a more nuanced understanding of human psychology, as needs are often implicit, context-dependent, and semantically nuanced in nature.\n",
        "\n",
        "For this project, we leverage the theory and the dataset provided by Alharthi et al, 2017, \"A Dataset for Psychological Human Needs Detection from Social Networks\". The dataset serves as the foundation for our classification task.\n",
        "\n",
        "To address the complexities of need classification, we employ a two-stage approach:\n",
        "\n",
        "* Prompt Engineering with Google’s LLMs: Using Google’s language models for few-shot and zero-shot learning to experiment with need classification.\n",
        "\n",
        "* Neural Network Training with Embeddings: Utilizing Google’s text-embedding-004 API to generate embeddings, which are then used to train a neural network to improve need classification."
      ]
    },
    {
      "cell_type": "code",
      "execution_count": null,
      "id": "cPdf4IPxDl4O",
      "metadata": {
        "id": "cPdf4IPxDl4O"
      },
      "outputs": [],
      "source": [
        "# importing libraries\n",
        "from google import genai\n",
        "from google.genai import types\n",
        "from IPython.display import HTML, Markdown, display"
      ]
    },
    {
      "cell_type": "code",
      "execution_count": null,
      "id": "f44be2d5",
      "metadata": {
        "id": "f44be2d5"
      },
      "outputs": [],
      "source": [
        "#creating a client object thas acts as interface to google\n",
        "client = genai.Client(api_key=\"YOUR_API_KEY\")\n"
      ]
    },
    {
      "cell_type": "markdown",
      "id": "667b61a1",
      "metadata": {
        "id": "667b61a1"
      },
      "source": [
        "# 0 shot prompting\n",
        "\n",
        "This code configures the LLM google model(i.e. gemini-2.0-flash), asks it to classify a tweet based on human needs, and then prints the AI's classification.\n",
        "\n",
        "The \"zero-shot\"  implies that the AI is attempting this task without any prior examples, relying solely on the instructions given."
      ]
    },
    {
      "cell_type": "code",
      "execution_count": null,
      "id": "99a439a6",
      "metadata": {
        "id": "99a439a6",
        "outputId": "49634a5c-ec35-44e8-9eaa-3fadc07c8b5d"
      },
      "outputs": [
        {
          "name": "stdout",
          "output_type": "stream",
          "text": [
            "For the tweet \"Laptop crashed. Couldn't have happened at a worse time. #Frustrated #firstworldproblems\", the need most directly affected is a dip into frustrations due to being blocked from **COMPETENCE.** An actor's Laptop has crashed! Frustration is expressed when they indicate there bad is bad 'worst when'. \"First world problems' suggests relative suffering; perhaps impeding performance.\n",
            "\n",
            "Let's consider, again a definition again how these categories get implemented- perhaps even considering negative variants for them as being distinct. i\n",
            "\n",
            "*   **Competence:** (The Basic and core goal to perform). The need is expressed as competence. (Lack of it in the tweet above\n",
            "\n",
            "* **relatedness:** Belongg and interpersonal acceptance can lead influence positive social outcomes in terms os psychologcal well being or engagement but also perhaps work efficiency due o team environment when compared individual working circumstances respectively and potentially more.\n",
            "\n",
            "****Relatedness.** Beligg and inclusion. IIner\n"
          ]
        }
      ],
      "source": [
        "#Setting up the Model Configuration and Prompt\n",
        "model_config = types.GenerateContentConfig(\n",
        "    temperature=2, #this parameter controls the randomness of the response\n",
        "    top_p=1,# selects words from the smallest set whose probabilities sum to at least p\n",
        "    max_output_tokens=200, # limits the length of the AI's response\n",
        ")\n",
        "\n",
        "zero_shot_prompt = \"\"\"Classify twitters as expressing basic human needs of the kind AUTONOMY, COMPETENCE or RELATEDNESS.\n",
        "Twitter:Laptop crashed. Couldn't have happened at a worse time. #Frustrated #firstworldproblems\n",
        "Need: \"\"\"\n",
        "\n",
        "# Generating and Printing the Response\n",
        "response = client.models.generate_content(\n",
        "    model='gemini-2.0-flash',\n",
        "    config=model_config,\n",
        "    contents=zero_shot_prompt)\n",
        "\n",
        "print(response.text)"
      ]
    },
    {
      "cell_type": "markdown",
      "id": "cOPX_II5H2Ni",
      "metadata": {
        "id": "cOPX_II5H2Ni"
      },
      "source": [
        "\n",
        "\n",
        "The model frequently misclassifies this tweet as 'Competence' or 'Relatedness' when using zero-shot prompting, while the correct label according to the dataset is 'Autonomy.' This highlights a potential limitation of the zero-shot approach. We will attempt to solve this by resorting to few-shot engineering.\n",
        "\n",
        "The output also tends to be verbose and sometimes it categorizes needs according to labels (e.g. friendship) that does not fit the theory of needs we are considering. This could be improved with more focused feedback, e.g. enforcing that the model only returns valid categories, nothing vague or inconsistent like \"autnomy\", \"Competnce\", or \"friendship\".\n"
      ]
    },
    {
      "cell_type": "markdown",
      "id": "A_94-Y0SOsy0",
      "metadata": {
        "id": "A_94-Y0SOsy0"
      },
      "source": [
        "# Constraining the model’s output to a predefined set of values"
      ]
    },
    {
      "cell_type": "code",
      "execution_count": null,
      "id": "31640dbc",
      "metadata": {
        "id": "31640dbc",
        "outputId": "2e9eb00d-9f9b-4f56-ad55-9f1ea12b3a08"
      },
      "outputs": [
        {
          "name": "stdout",
          "output_type": "stream",
          "text": [
            "competence\n"
          ]
        }
      ],
      "source": [
        "import enum\n",
        "\n",
        "# Define an enum for the three basic psychological needs\n",
        "class Need(enum.Enum):\n",
        "    AUTONOMY = \"autonomy\"\n",
        "    COMPETENCE = \"competence\"\n",
        "    RELATEDNESS = \"relatedness\"\n",
        "\n",
        "#Generate a response by restricting output to one of the Need enum values\n",
        "response = client.models.generate_content(\n",
        "    model='gemini-2.0-flash',\n",
        "    config=types.GenerateContentConfig(\n",
        "        response_mime_type=\"text/x.enum\",  # Expect enum format in response\n",
        "        response_schema=Need   # Enforce response to match the Need enum\n",
        "    ),\n",
        "    contents=zero_shot_prompt)  # Reuse 0-prompt\n",
        "\n",
        "print(response.text)"
      ]
    },
    {
      "cell_type": "markdown",
      "id": "8c7TKKO3PbKI",
      "metadata": {
        "id": "8c7TKKO3PbKI"
      },
      "source": [
        "While using enums to constrain the model's output to 'Autonomy,' 'Competence,' or 'Relatedness' provides a structured and concise response, it doesn't solve the fundamental limitation of zero-shot prompting in accurately classifying human needs from tweets. The model still misclassifies, highlighting the need for few-shot prompting."
      ]
    },
    {
      "cell_type": "markdown",
      "id": "b27ddd1d",
      "metadata": {
        "id": "b27ddd1d"
      },
      "source": [
        "# Few-shoot prompting\n",
        "\n",
        "To improve the response and address the limitations of zero-shot prompting, we will attempt few-shot prompting. This involves providing the model with a few examples of tweets classified into the desired need categories (Autonomy, Competence, Relatedness) before asking it to make a prediction on a new tweet. By guiding the model with relevant examples, we expect to improve its accuracy, reduce verbosity, and achieve better alignment with the desired output"
      ]
    },
    {
      "cell_type": "code",
      "execution_count": null,
      "id": "8ecb2b2a",
      "metadata": {
        "id": "8ecb2b2a",
        "outputId": "cf67cc31-5d62-4258-e0fa-e158b5d9bf13"
      },
      "outputs": [
        {
          "name": "stdout",
          "output_type": "stream",
          "text": [
            "COMPETENCE\n",
            "\n"
          ]
        }
      ],
      "source": [
        "few_shot_prompt = \"\"\"Classify tweets as expressing basic human needs of the kind AUTONOMY, COMPETENCE, or RELATEDNESS.\n",
        "\n",
        "Below is a brief explanation of each kind of need, further elucidated with examples of tweets and the corresponding need as annotated by human experts.\n",
        "\n",
        "EXPLANATION:\n",
        "\n",
        "- AUTONOMY: The need for autonomy can be defined as the feeling of self-direction. Individuals need to experience a sense of willingness and take control of their own behavior without any external pressure.\n",
        "\n",
        "- COMPETENCE: The need for competence can be defined as the need to feel capable and effective while interacting with the environment. People need to adapt to a changing environment, master challenges, and learn different skills.\n",
        "\n",
        "- RELATEDNESS: The need for relatedness can be defined as a person's feelings of belonging, attachment, and meaningful relationships with others—specifically relationships with friends, family, and larger groups or communities (e.g., religious or political).\n",
        "\n",
        "\n",
        "EXAMPLE OF AUTONOMY: What to do today on my day off 😞 not what I'd hoped 😔 #disappointed\n",
        "\n",
        "EXAMPLE OF COMPETENCE: This morning I've managed to fix my cable and my internet #Accomplished\n",
        "\n",
        "EXAMPLE OF RELATEDNESS: very much wanting to get a piercing but very much not wanting to go alone #suffer\n",
        "\n",
        "TWITTER:\n",
        "\"\"\"\n",
        "\n",
        "twitter = \"Laptop crashed. Couldn't have happened at a worse time. #Frustrated #firstworldproblems\"\n",
        "\n",
        "response = client.models.generate_content(\n",
        "    model='gemini-2.0-flash',\n",
        "    config=types.GenerateContentConfig(\n",
        "        temperature=0.1,\n",
        "        top_p=1,\n",
        "        max_output_tokens=250,\n",
        "    ),\n",
        "    contents=[few_shot_prompt, twitter])\n",
        "\n",
        "print(response.text)"
      ]
    },
    {
      "cell_type": "markdown",
      "id": "TFqnmLv532Tf",
      "metadata": {
        "id": "TFqnmLv532Tf"
      },
      "source": [
        "Despite providing an articulated prompt with examples (i.e., using few-shot prompting), the model consistently tends to classify tweets as expressing a competence need."
      ]
    },
    {
      "cell_type": "markdown",
      "id": "ddb34b87",
      "metadata": {
        "id": "ddb34b87"
      },
      "source": [
        "# Classifying needs using embedding"
      ]
    },
    {
      "cell_type": "code",
      "execution_count": null,
      "id": "cb3dc280",
      "metadata": {
        "id": "cb3dc280",
        "outputId": "17b41481-4660-4e30-b91a-9dded5f68332"
      },
      "outputs": [
        {
          "data": {
            "text/html": [
              "<div>\n",
              "<style scoped>\n",
              "    .dataframe tbody tr th:only-of-type {\n",
              "        vertical-align: middle;\n",
              "    }\n",
              "\n",
              "    .dataframe tbody tr th {\n",
              "        vertical-align: top;\n",
              "    }\n",
              "\n",
              "    .dataframe thead th {\n",
              "        text-align: right;\n",
              "    }\n",
              "</style>\n",
              "<table border=\"1\" class=\"dataframe\">\n",
              "  <thead>\n",
              "    <tr style=\"text-align: right;\">\n",
              "      <th></th>\n",
              "      <th>id</th>\n",
              "      <th>text</th>\n",
              "      <th>category</th>\n",
              "      <th>satisfaction</th>\n",
              "      <th>environment</th>\n",
              "      <th>social</th>\n",
              "    </tr>\n",
              "  </thead>\n",
              "  <tbody>\n",
              "    <tr>\n",
              "      <th>0</th>\n",
              "      <td>684557676991217666</td>\n",
              "      <td>2 days until I get my studio back!!! It's been...</td>\n",
              "      <td>Autonomy</td>\n",
              "      <td>Satisfied</td>\n",
              "      <td>Not Clear</td>\n",
              "      <td>Leisure</td>\n",
              "    </tr>\n",
              "    <tr>\n",
              "      <th>1</th>\n",
              "      <td>681845581120180224</td>\n",
              "      <td>I hate everyone who doesn't have to work today...</td>\n",
              "      <td>Autonomy</td>\n",
              "      <td>Dissatisfied</td>\n",
              "      <td>Not Clear</td>\n",
              "      <td>Work</td>\n",
              "    </tr>\n",
              "    <tr>\n",
              "      <th>2</th>\n",
              "      <td>683974173325180929</td>\n",
              "      <td>Hosting at one of the best venues in London, c...</td>\n",
              "      <td>Autonomy</td>\n",
              "      <td>Satisfied</td>\n",
              "      <td>Not Clear</td>\n",
              "      <td>Leisure</td>\n",
              "    </tr>\n",
              "    <tr>\n",
              "      <th>3</th>\n",
              "      <td>681917329177853952</td>\n",
              "      <td>Can't believe in 12 days I'll be laying on a b...</td>\n",
              "      <td>Autonomy</td>\n",
              "      <td>Satisfied</td>\n",
              "      <td>Supportive</td>\n",
              "      <td>Leisure</td>\n",
              "    </tr>\n",
              "    <tr>\n",
              "      <th>4</th>\n",
              "      <td>683836324252676101</td>\n",
              "      <td>Looking forward to N awesome day tomorrow 😬 #e...</td>\n",
              "      <td>Autonomy</td>\n",
              "      <td>Satisfied</td>\n",
              "      <td>Not Clear</td>\n",
              "      <td>Other</td>\n",
              "    </tr>\n",
              "  </tbody>\n",
              "</table>\n",
              "</div>"
            ],
            "text/plain": [
              "                   id                                               text  \\\n",
              "0  684557676991217666  2 days until I get my studio back!!! It's been...   \n",
              "1  681845581120180224  I hate everyone who doesn't have to work today...   \n",
              "2  683974173325180929  Hosting at one of the best venues in London, c...   \n",
              "3  681917329177853952  Can't believe in 12 days I'll be laying on a b...   \n",
              "4  683836324252676101  Looking forward to N awesome day tomorrow 😬 #e...   \n",
              "\n",
              "   category  satisfaction environment   social  \n",
              "0  Autonomy     Satisfied   Not Clear  Leisure  \n",
              "1  Autonomy  Dissatisfied   Not Clear     Work  \n",
              "2  Autonomy     Satisfied   Not Clear  Leisure  \n",
              "3  Autonomy     Satisfied  Supportive  Leisure  \n",
              "4  Autonomy     Satisfied   Not Clear    Other  "
            ]
          },
          "execution_count": 12,
          "metadata": {},
          "output_type": "execute_result"
        }
      ],
      "source": [
        "import pandas as pd\n",
        "\n",
        "#loading the dataset\n",
        "df = pd.read_csv(\"/kaggle/input/human-needs-dataset-csv/needs_dataset.csv\")\n",
        "df.head()"
      ]
    },
    {
      "cell_type": "markdown",
      "id": "o1-PqRaq7MC3",
      "metadata": {
        "id": "o1-PqRaq7MC3"
      },
      "source": [
        "This dataset contains tweets annotated with psychological need categories based on Self-Determination Theory, i.e. Autonomy, Competence, and Relatedness. Each row represents a single tweet with associated metadata and labels:\n",
        "\n",
        "- id: Unique identifier of the tweet.\n",
        "\n",
        "- text: The tweet content.\n",
        "\n",
        "- category: The type of need expressed in the tweet (e.g., Autonomy).\n",
        "\n",
        "- satisfaction: Indicates whether the need is being satisfied or frustrated.\n",
        "\n",
        "- environment: indicates whether the social context supports the satisfaction of needs\n",
        "\n",
        "- social: Context or domain related to the tweet (e.g., Work, Leisure).\n",
        "\n"
      ]
    },
    {
      "cell_type": "code",
      "execution_count": null,
      "id": "a97d06d2",
      "metadata": {
        "id": "a97d06d2",
        "outputId": "e3b73117-40c9-4d48-e431-46ee6371188a"
      },
      "outputs": [
        {
          "data": {
            "text/html": [
              "<div>\n",
              "<style scoped>\n",
              "    .dataframe tbody tr th:only-of-type {\n",
              "        vertical-align: middle;\n",
              "    }\n",
              "\n",
              "    .dataframe tbody tr th {\n",
              "        vertical-align: top;\n",
              "    }\n",
              "\n",
              "    .dataframe thead th {\n",
              "        text-align: right;\n",
              "    }\n",
              "</style>\n",
              "<table border=\"1\" class=\"dataframe\">\n",
              "  <thead>\n",
              "    <tr style=\"text-align: right;\">\n",
              "      <th></th>\n",
              "      <th>text</th>\n",
              "      <th>category</th>\n",
              "    </tr>\n",
              "  </thead>\n",
              "  <tbody>\n",
              "    <tr>\n",
              "      <th>0</th>\n",
              "      <td>2 days until I get my studio back!!! It's been...</td>\n",
              "      <td>Autonomy</td>\n",
              "    </tr>\n",
              "    <tr>\n",
              "      <th>1</th>\n",
              "      <td>I hate everyone who doesn't have to work today...</td>\n",
              "      <td>Autonomy</td>\n",
              "    </tr>\n",
              "    <tr>\n",
              "      <th>2</th>\n",
              "      <td>Hosting at one of the best venues in London, c...</td>\n",
              "      <td>Autonomy</td>\n",
              "    </tr>\n",
              "    <tr>\n",
              "      <th>3</th>\n",
              "      <td>Can't believe in 12 days I'll be laying on a b...</td>\n",
              "      <td>Autonomy</td>\n",
              "    </tr>\n",
              "    <tr>\n",
              "      <th>4</th>\n",
              "      <td>Looking forward to N awesome day tomorrow 😬 #e...</td>\n",
              "      <td>Autonomy</td>\n",
              "    </tr>\n",
              "  </tbody>\n",
              "</table>\n",
              "</div>"
            ],
            "text/plain": [
              "                                                text  category\n",
              "0  2 days until I get my studio back!!! It's been...  Autonomy\n",
              "1  I hate everyone who doesn't have to work today...  Autonomy\n",
              "2  Hosting at one of the best venues in London, c...  Autonomy\n",
              "3  Can't believe in 12 days I'll be laying on a b...  Autonomy\n",
              "4  Looking forward to N awesome day tomorrow 😬 #e...  Autonomy"
            ]
          },
          "execution_count": 13,
          "metadata": {},
          "output_type": "execute_result"
        }
      ],
      "source": [
        "# selecting the relevant columns\n",
        "df = df[[\"text\", \"category\"]]\n",
        "df.head()"
      ]
    },
    {
      "cell_type": "code",
      "execution_count": null,
      "id": "0090a0d4",
      "metadata": {
        "id": "0090a0d4",
        "outputId": "1cec0d02-012e-4627-d3d2-5f3255af1cab"
      },
      "outputs": [
        {
          "data": {
            "text/plain": [
              "(6334, 2)"
            ]
          },
          "execution_count": 14,
          "metadata": {},
          "output_type": "execute_result"
        }
      ],
      "source": [
        "# print the dimensions of the dataframe\n",
        "df.shape"
      ]
    },
    {
      "cell_type": "code",
      "execution_count": null,
      "id": "7390594a",
      "metadata": {
        "id": "7390594a"
      },
      "outputs": [],
      "source": [
        "# selecting the text to be embedded\n",
        "text = df[[\"text\"]]"
      ]
    },
    {
      "cell_type": "code",
      "execution_count": null,
      "id": "8ff3c9d5",
      "metadata": {
        "id": "8ff3c9d5",
        "outputId": "2bdf4794-5699-4091-cc65-d616753bbc54"
      },
      "outputs": [
        {
          "data": {
            "text/html": [
              "<div>\n",
              "<style scoped>\n",
              "    .dataframe tbody tr th:only-of-type {\n",
              "        vertical-align: middle;\n",
              "    }\n",
              "\n",
              "    .dataframe tbody tr th {\n",
              "        vertical-align: top;\n",
              "    }\n",
              "\n",
              "    .dataframe thead th {\n",
              "        text-align: right;\n",
              "    }\n",
              "</style>\n",
              "<table border=\"1\" class=\"dataframe\">\n",
              "  <thead>\n",
              "    <tr style=\"text-align: right;\">\n",
              "      <th></th>\n",
              "      <th>text</th>\n",
              "    </tr>\n",
              "  </thead>\n",
              "  <tbody>\n",
              "    <tr>\n",
              "      <th>0</th>\n",
              "      <td>2 days until I get my studio back!!! It's been...</td>\n",
              "    </tr>\n",
              "    <tr>\n",
              "      <th>1</th>\n",
              "      <td>I hate everyone who doesn't have to work today...</td>\n",
              "    </tr>\n",
              "    <tr>\n",
              "      <th>2</th>\n",
              "      <td>Hosting at one of the best venues in London, c...</td>\n",
              "    </tr>\n",
              "    <tr>\n",
              "      <th>3</th>\n",
              "      <td>Can't believe in 12 days I'll be laying on a b...</td>\n",
              "    </tr>\n",
              "    <tr>\n",
              "      <th>4</th>\n",
              "      <td>Looking forward to N awesome day tomorrow 😬 #e...</td>\n",
              "    </tr>\n",
              "  </tbody>\n",
              "</table>\n",
              "</div>"
            ],
            "text/plain": [
              "                                                text\n",
              "0  2 days until I get my studio back!!! It's been...\n",
              "1  I hate everyone who doesn't have to work today...\n",
              "2  Hosting at one of the best venues in London, c...\n",
              "3  Can't believe in 12 days I'll be laying on a b...\n",
              "4  Looking forward to N awesome day tomorrow 😬 #e..."
            ]
          },
          "execution_count": 16,
          "metadata": {},
          "output_type": "execute_result"
        }
      ],
      "source": [
        "text.head()"
      ]
    },
    {
      "cell_type": "markdown",
      "id": "e87559d7",
      "metadata": {
        "id": "e87559d7"
      },
      "source": [
        "Below the functions \"make_embed_text_fn\" and \"create_embeddings\" are defined to generate embeddings from text. For more see the following link:\n",
        "\n",
        "https://github.com/google-gemini/cookbook/blob/main/examples/Classify_text_with_embeddings.ipynb"
      ]
    },
    {
      "cell_type": "code",
      "execution_count": null,
      "id": "94c2f7e6",
      "metadata": {
        "cellView": "code",
        "id": "94c2f7e6"
      },
      "outputs": [],
      "source": [
        "\n",
        "from tqdm.auto import tqdm\n",
        "from google.genai import types\n",
        "\n",
        "tqdm.pandas()\n",
        "\n",
        "from google.api_core import retry\n",
        "import numpy as np\n",
        "import math\n",
        "\n",
        "def make_embed_text_fn(model):\n",
        "\n",
        "    @retry.Retry(timeout=300.0)\n",
        "    def embed_fn(texts: list[str]) -> list[list[float]]:\n",
        "        # Set the task_type to CLASSIFICATION and embed the batch of texts\n",
        "        embeddings = client.models.embed_content(\n",
        "            model=model,\n",
        "            contents=texts,\n",
        "            config=types.EmbedContentConfig(task_type=\"CLASSIFICATION\"),\n",
        "        ).embeddings\n",
        "        return np.array([embedding.values for embedding in embeddings])\n",
        "\n",
        "    return embed_fn\n",
        "\n",
        "\n",
        "def create_embeddings(df):\n",
        "    MODEL_ID = \"text-embedding-004\" # @param [\"embedding-001\", \"text-embedding-004\",\"gemini-embedding-exp-03-07\"] {\"allow-input\":true, isTemplate: true}\n",
        "    model = f\"models/{MODEL_ID}\"\n",
        "    embed_fn = make_embed_text_fn(model)\n",
        "\n",
        "    batch_size = 100  # at most 100 requests can be in one batch\n",
        "    all_embeddings = []\n",
        "\n",
        "    # Loop over the texts in chunks of batch_size\n",
        "    for i in tqdm(range(0, len(df), batch_size)):\n",
        "        batch = df[\"text\"].iloc[i : i + batch_size].tolist()  #apply the coloumn name of the dataset\n",
        "        embeddings = embed_fn(batch)\n",
        "        all_embeddings.extend(embeddings)\n",
        "\n",
        "    df[\"Embeddings\"] = all_embeddings\n",
        "    return df"
      ]
    },
    {
      "cell_type": "code",
      "execution_count": null,
      "id": "c322c3ef",
      "metadata": {
        "id": "c322c3ef"
      },
      "outputs": [],
      "source": [
        "# generate an array of numbers to represent the tweets\n",
        "embeddings_array = create_embeddings(text)"
      ]
    },
    {
      "cell_type": "code",
      "execution_count": null,
      "id": "8b2fdd19",
      "metadata": {
        "id": "8b2fdd19"
      },
      "outputs": [],
      "source": [
        "# Convert to a DataFrame to work with pandas\n",
        "text_embeddings = pd.DataFrame(embeddings_array)"
      ]
    },
    {
      "cell_type": "code",
      "execution_count": null,
      "id": "6e133928",
      "metadata": {
        "id": "6e133928",
        "outputId": "5198a25b-f673-4db2-c7c1-8e5e7948b991"
      },
      "outputs": [
        {
          "data": {
            "text/html": [
              "<div>\n",
              "<style scoped>\n",
              "    .dataframe tbody tr th:only-of-type {\n",
              "        vertical-align: middle;\n",
              "    }\n",
              "\n",
              "    .dataframe tbody tr th {\n",
              "        vertical-align: top;\n",
              "    }\n",
              "\n",
              "    .dataframe thead th {\n",
              "        text-align: right;\n",
              "    }\n",
              "</style>\n",
              "<table border=\"1\" class=\"dataframe\">\n",
              "  <thead>\n",
              "    <tr style=\"text-align: right;\">\n",
              "      <th></th>\n",
              "      <th>text</th>\n",
              "      <th>Embeddings</th>\n",
              "    </tr>\n",
              "  </thead>\n",
              "  <tbody>\n",
              "    <tr>\n",
              "      <th>0</th>\n",
              "      <td>2 days until I get my studio back!!! It's been...</td>\n",
              "      <td>[-0.048260726, 0.00067045004, 0.04343376, 0.04...</td>\n",
              "    </tr>\n",
              "    <tr>\n",
              "      <th>1</th>\n",
              "      <td>I hate everyone who doesn't have to work today...</td>\n",
              "      <td>[-0.0032542767, -0.0050565773, -0.0061653233, ...</td>\n",
              "    </tr>\n",
              "    <tr>\n",
              "      <th>2</th>\n",
              "      <td>Hosting at one of the best venues in London, c...</td>\n",
              "      <td>[-0.013028014, 0.00015843856, -0.010279144, 0....</td>\n",
              "    </tr>\n",
              "    <tr>\n",
              "      <th>3</th>\n",
              "      <td>Can't believe in 12 days I'll be laying on a b...</td>\n",
              "      <td>[-0.041166335, -0.004530204, 0.014472111, 0.02...</td>\n",
              "    </tr>\n",
              "    <tr>\n",
              "      <th>4</th>\n",
              "      <td>Looking forward to N awesome day tomorrow 😬 #e...</td>\n",
              "      <td>[-0.049580667, 0.029443955, 0.011005492, 0.031...</td>\n",
              "    </tr>\n",
              "  </tbody>\n",
              "</table>\n",
              "</div>"
            ],
            "text/plain": [
              "                                                text  \\\n",
              "0  2 days until I get my studio back!!! It's been...   \n",
              "1  I hate everyone who doesn't have to work today...   \n",
              "2  Hosting at one of the best venues in London, c...   \n",
              "3  Can't believe in 12 days I'll be laying on a b...   \n",
              "4  Looking forward to N awesome day tomorrow 😬 #e...   \n",
              "\n",
              "                                          Embeddings  \n",
              "0  [-0.048260726, 0.00067045004, 0.04343376, 0.04...  \n",
              "1  [-0.0032542767, -0.0050565773, -0.0061653233, ...  \n",
              "2  [-0.013028014, 0.00015843856, -0.010279144, 0....  \n",
              "3  [-0.041166335, -0.004530204, 0.014472111, 0.02...  \n",
              "4  [-0.049580667, 0.029443955, 0.011005492, 0.031...  "
            ]
          },
          "execution_count": 18,
          "metadata": {},
          "output_type": "execute_result"
        }
      ],
      "source": [
        "text_embeddings.head()"
      ]
    },
    {
      "cell_type": "markdown",
      "id": "deXXSMOl_Jwk",
      "metadata": {
        "id": "deXXSMOl_Jwk"
      },
      "source": [
        "The tweets alongside the corresponding numerical representation"
      ]
    },
    {
      "cell_type": "code",
      "execution_count": null,
      "id": "cd09c495",
      "metadata": {
        "id": "cd09c495",
        "outputId": "547e69a0-2932-423c-e30e-08fdfc6c3b4f"
      },
      "outputs": [
        {
          "name": "stdout",
          "output_type": "stream",
          "text": [
            "   need_label  category\n",
            "0           0  Autonomy\n",
            "1           0  Autonomy\n",
            "2           0  Autonomy\n",
            "3           0  Autonomy\n",
            "4           0  Autonomy\n"
          ]
        }
      ],
      "source": [
        "#label encoding\n",
        "from sklearn.preprocessing import LabelEncoder\n",
        "\n",
        "le = LabelEncoder()\n",
        "df[\"need_label\"] = le.fit_transform(df[\"category\"])\n",
        "\n",
        "# Now each need is encoded as a single integer: 0 (autonomy), 1(competence), 2(relatedness)\n",
        "print(df[[\"need_label\", \"category\"]].head())\n"
      ]
    },
    {
      "cell_type": "code",
      "execution_count": null,
      "id": "1215be3f",
      "metadata": {
        "id": "1215be3f",
        "outputId": "7d81d65d-24bb-4a69-cab7-e4de5a8f72bd"
      },
      "outputs": [
        {
          "name": "stdout",
          "output_type": "stream",
          "text": [
            "need_label\n",
            "2    3334\n",
            "0    1771\n",
            "1    1229\n",
            "Name: count, dtype: int64\n"
          ]
        },
        {
          "data": {
            "image/png": "[encoded data removed]",
            "text/plain": [
              "<Figure size 640x480 with 1 Axes>"
            ]
          },
          "metadata": {},
          "output_type": "display_data"
        }
      ],
      "source": [
        "# Count the occurrences of each class in the target column\n",
        "class_counts = df[\"need_label\"].value_counts()\n",
        "\n",
        "# Print the count for each class\n",
        "print(class_counts)\n",
        "\n",
        "# plot the distribution to visualize the imbalance\n",
        "import matplotlib.pyplot as plt\n",
        "\n",
        "class_counts.plot(kind='bar')\n",
        "plt.title('Class Distribution')\n",
        "plt.xlabel('Class Label')\n",
        "plt.ylabel('Number of Samples')\n",
        "plt.xticks(rotation=0)\n",
        "plt.show()\n"
      ]
    },
    {
      "cell_type": "markdown",
      "id": "nvxIUVLUATO-",
      "metadata": {
        "id": "nvxIUVLUATO-"
      },
      "source": [
        "The label distribution in the dataset is as follows:\n",
        "\n",
        "- Relatedness (2): 3,334 samples\n",
        "\n",
        "- Autonomy (0): 1,771 samples\n",
        "\n",
        "- Competence (1): 1,229 samples\n",
        "\n",
        "This reveals a significant class imbalance, with Relatedness being overrepresented compared to Autonomy and especially Competence."
      ]
    },
    {
      "cell_type": "code",
      "execution_count": null,
      "id": "9fff42ea",
      "metadata": {
        "id": "9fff42ea"
      },
      "outputs": [],
      "source": [
        "# Creating a new dataframe merging the embeddings and needs labels\n",
        "final_df = pd.concat([text_embeddings[\"Embeddings\"], df[\"need_label\"]], axis=1)"
      ]
    },
    {
      "cell_type": "code",
      "execution_count": null,
      "id": "6243c365",
      "metadata": {
        "id": "6243c365",
        "outputId": "96efd60e-356d-4506-f81d-4d722176290a"
      },
      "outputs": [
        {
          "data": {
            "text/html": [
              "<div>\n",
              "<style scoped>\n",
              "    .dataframe tbody tr th:only-of-type {\n",
              "        vertical-align: middle;\n",
              "    }\n",
              "\n",
              "    .dataframe tbody tr th {\n",
              "        vertical-align: top;\n",
              "    }\n",
              "\n",
              "    .dataframe thead th {\n",
              "        text-align: right;\n",
              "    }\n",
              "</style>\n",
              "<table border=\"1\" class=\"dataframe\">\n",
              "  <thead>\n",
              "    <tr style=\"text-align: right;\">\n",
              "      <th></th>\n",
              "      <th>Embeddings</th>\n",
              "      <th>need_label</th>\n",
              "    </tr>\n",
              "  </thead>\n",
              "  <tbody>\n",
              "    <tr>\n",
              "      <th>0</th>\n",
              "      <td>[-0.048260726, 0.00067045004, 0.04343376, 0.04...</td>\n",
              "      <td>0</td>\n",
              "    </tr>\n",
              "    <tr>\n",
              "      <th>1</th>\n",
              "      <td>[-0.0032542767, -0.0050565773, -0.0061653233, ...</td>\n",
              "      <td>0</td>\n",
              "    </tr>\n",
              "    <tr>\n",
              "      <th>2</th>\n",
              "      <td>[-0.013028014, 0.00015843856, -0.010279144, 0....</td>\n",
              "      <td>0</td>\n",
              "    </tr>\n",
              "    <tr>\n",
              "      <th>3</th>\n",
              "      <td>[-0.041166335, -0.004530204, 0.014472111, 0.02...</td>\n",
              "      <td>0</td>\n",
              "    </tr>\n",
              "    <tr>\n",
              "      <th>4</th>\n",
              "      <td>[-0.049580667, 0.029443955, 0.011005492, 0.031...</td>\n",
              "      <td>0</td>\n",
              "    </tr>\n",
              "  </tbody>\n",
              "</table>\n",
              "</div>"
            ],
            "text/plain": [
              "                                          Embeddings  need_label\n",
              "0  [-0.048260726, 0.00067045004, 0.04343376, 0.04...           0\n",
              "1  [-0.0032542767, -0.0050565773, -0.0061653233, ...           0\n",
              "2  [-0.013028014, 0.00015843856, -0.010279144, 0....           0\n",
              "3  [-0.041166335, -0.004530204, 0.014472111, 0.02...           0\n",
              "4  [-0.049580667, 0.029443955, 0.011005492, 0.031...           0"
            ]
          },
          "execution_count": 21,
          "metadata": {},
          "output_type": "execute_result"
        }
      ],
      "source": [
        "final_df.head()"
      ]
    },
    {
      "cell_type": "code",
      "execution_count": null,
      "id": "dffc9553",
      "metadata": {
        "id": "dffc9553"
      },
      "outputs": [],
      "source": [
        "# importing libraries\n",
        "import tensorflow as tf\n",
        "import numpy as np\n",
        "import pandas as pd\n",
        "from sklearn.model_selection import train_test_split\n",
        "import keras\n",
        "from keras import layers\n",
        "\n",
        "#splitting the data\n",
        "train_df, test_df = train_test_split(\n",
        "    final_df, test_size=0.3, random_state = 1, stratify=final_df[\"need_label\"] # using stratify to prevent biases due to class imbalance\n",
        ")"
      ]
    },
    {
      "cell_type": "code",
      "execution_count": null,
      "id": "ec1227a3",
      "metadata": {
        "id": "ec1227a3"
      },
      "outputs": [],
      "source": [
        "# Extract inputs (X) and outputs (y)\n",
        "x_train = np.stack(train_df[\"Embeddings\"])\n",
        "y_train = train_df[\"need_label\"]\n",
        "\n",
        "x_val = np.stack(test_df[\"Embeddings\"])\n",
        "y_val = test_df[\"need_label\"]\n"
      ]
    },
    {
      "cell_type": "code",
      "execution_count": null,
      "id": "14c190a6",
      "metadata": {
        "id": "14c190a6"
      },
      "outputs": [],
      "source": [
        "# Define input and output sizes\n",
        "embedding_size = x_train.shape[1]\n",
        "num_classes = final_df[\"need_label\"].nunique()"
      ]
    },
    {
      "cell_type": "code",
      "execution_count": null,
      "id": "f0e319ce",
      "metadata": {
        "id": "f0e319ce",
        "outputId": "f6b7a08a-5b23-4a3d-8b7c-2298ead0dfbf"
      },
      "outputs": [
        {
          "name": "stdout",
          "output_type": "stream",
          "text": [
            "Model: \"sequential\"\n",
            "_________________________________________________________________\n",
            " Layer (type)                Output Shape              Param #   \n",
            "=================================================================\n",
            " hidden (Dense)              (None, 768)               590592    \n",
            "                                                                 \n",
            " output_probs (Dense)        (None, 3)                 2307      \n",
            "                                                                 \n",
            "=================================================================\n",
            "Total params: 592,899\n",
            "Trainable params: 592,899\n",
            "Non-trainable params: 0\n",
            "_________________________________________________________________\n"
          ]
        },
        {
          "name": "stderr",
          "output_type": "stream",
          "text": [
            "2025-04-16 10:54:28.652843: I tensorflow/compiler/xla/stream_executor/cuda/cuda_gpu_executor.cc:967] could not open file to read NUMA node: /sys/bus/pci/devices/0000:01:00.0/numa_node\n",
            "Your kernel may have been built without NUMA support.\n",
            "2025-04-16 10:54:28.703797: W tensorflow/compiler/xla/stream_executor/platform/default/dso_loader.cc:64] Could not load dynamic library 'libcudnn.so.8'; dlerror: libcudnn.so.8: cannot open shared object file: No such file or directory\n",
            "2025-04-16 10:54:28.703819: W tensorflow/core/common_runtime/gpu/gpu_device.cc:1934] Cannot dlopen some GPU libraries. Please make sure the missing libraries mentioned above are installed properly if you would like to use GPU. Follow the guide at https://www.tensorflow.org/install/gpu for how to download and setup the required libraries for your platform.\n",
            "Skipping registering GPU devices...\n",
            "2025-04-16 10:54:28.704737: I tensorflow/core/platform/cpu_feature_guard.cc:193] This TensorFlow binary is optimized with oneAPI Deep Neural Network Library (oneDNN) to use the following CPU instructions in performance-critical operations:  AVX2 AVX_VNNI FMA\n",
            "To enable them in other operations, rebuild TensorFlow with the appropriate compiler flags.\n"
          ]
        }
      ],
      "source": [
        "# Build the classification model\n",
        "def build_classification_model(input_size: int, num_classes: int) -> keras.Model:\n",
        "    return keras.Sequential(\n",
        "        [\n",
        "            layers.Input(shape=(input_size,), name=\"embedding_inputs\"),\n",
        "            layers.Dense(input_size, activation=\"relu\", name=\"hidden\"),\n",
        "            layers.Dense(num_classes, activation=\"softmax\", name=\"output_probs\"),\n",
        "        ]\n",
        "    )\n",
        "\n",
        "# Instantiate the model\n",
        "classifier = build_classification_model(embedding_size, num_classes)\n",
        "classifier.summary()\n",
        "\n",
        "# Compile the model\n",
        "classifier.compile(\n",
        "    loss=keras.losses.SparseCategoricalCrossentropy(),\n",
        "    optimizer=keras.optimizers.Adam(learning_rate=0.001),\n",
        "    metrics=[\"accuracy\"],\n",
        ")"
      ]
    },
    {
      "cell_type": "code",
      "execution_count": null,
      "id": "ae4dc7cd",
      "metadata": {
        "id": "ae4dc7cd",
        "outputId": "29987115-84f3-4dd0-e356-bdb048524d54"
      },
      "outputs": [
        {
          "name": "stdout",
          "output_type": "stream",
          "text": [
            "Epoch 1/20\n",
            "139/139 [==============================] - 1s 3ms/step - loss: 0.7564 - accuracy: 0.6808 - val_loss: 0.5941 - val_accuracy: 0.7528\n",
            "Epoch 2/20\n",
            "139/139 [==============================] - 0s 2ms/step - loss: 0.4963 - accuracy: 0.8028 - val_loss: 0.5212 - val_accuracy: 0.7943\n",
            "Epoch 3/20\n",
            "139/139 [==============================] - 0s 2ms/step - loss: 0.4480 - accuracy: 0.8222 - val_loss: 0.5038 - val_accuracy: 0.7969\n",
            "Epoch 4/20\n",
            "139/139 [==============================] - 0s 2ms/step - loss: 0.4166 - accuracy: 0.8344 - val_loss: 0.4957 - val_accuracy: 0.8090\n",
            "Epoch 5/20\n",
            "139/139 [==============================] - 0s 2ms/step - loss: 0.4038 - accuracy: 0.8385 - val_loss: 0.4912 - val_accuracy: 0.8033\n",
            "Epoch 6/20\n",
            "139/139 [==============================] - 0s 2ms/step - loss: 0.4146 - accuracy: 0.8394 - val_loss: 0.6590 - val_accuracy: 0.7617\n",
            "Epoch 7/20\n",
            "139/139 [==============================] - 0s 2ms/step - loss: 0.3893 - accuracy: 0.8480 - val_loss: 0.5069 - val_accuracy: 0.8075\n",
            "Epoch 8/20\n",
            "139/139 [==============================] - 0s 2ms/step - loss: 0.3766 - accuracy: 0.8495 - val_loss: 0.5071 - val_accuracy: 0.8133\n",
            "Epoch 9/20\n",
            "139/139 [==============================] - 0s 2ms/step - loss: 0.3735 - accuracy: 0.8543 - val_loss: 0.5497 - val_accuracy: 0.7764\n",
            "Epoch 10/20\n",
            "139/139 [==============================] - 0s 2ms/step - loss: 0.3703 - accuracy: 0.8536 - val_loss: 0.5053 - val_accuracy: 0.7954\n",
            "Epoch 11/20\n",
            "139/139 [==============================] - 0s 2ms/step - loss: 0.3610 - accuracy: 0.8599 - val_loss: 0.5028 - val_accuracy: 0.7996\n",
            "Epoch 12/20\n",
            "139/139 [==============================] - 0s 2ms/step - loss: 0.3582 - accuracy: 0.8613 - val_loss: 0.5619 - val_accuracy: 0.8059\n",
            "Epoch 13/20\n",
            "139/139 [==============================] - 0s 2ms/step - loss: 0.3450 - accuracy: 0.8649 - val_loss: 0.4979 - val_accuracy: 0.8106\n",
            "Epoch 14/20\n",
            "139/139 [==============================] - 0s 2ms/step - loss: 0.3390 - accuracy: 0.8701 - val_loss: 0.5212 - val_accuracy: 0.8106\n",
            "Epoch 15/20\n",
            "139/139 [==============================] - 0s 2ms/step - loss: 0.3359 - accuracy: 0.8660 - val_loss: 0.5074 - val_accuracy: 0.8106\n",
            "Epoch 16/20\n",
            "139/139 [==============================] - 0s 2ms/step - loss: 0.3290 - accuracy: 0.8683 - val_loss: 0.5268 - val_accuracy: 0.7885\n",
            "Epoch 17/20\n",
            "139/139 [==============================] - 0s 2ms/step - loss: 0.3299 - accuracy: 0.8685 - val_loss: 0.5328 - val_accuracy: 0.8096\n"
          ]
        }
      ],
      "source": [
        "# Set training parameters\n",
        "NUM_EPOCHS = 20\n",
        "BATCH_SIZE = 32\n",
        "\n",
        "# Early stopping\n",
        "early_stop = keras.callbacks.EarlyStopping(monitor=\"accuracy\", patience=3)\n",
        "\n",
        "# Train the model\n",
        "history = classifier.fit(\n",
        "    x=x_train,\n",
        "    y=y_train,\n",
        "    validation_data=(x_val, y_val),\n",
        "    callbacks=[early_stop],\n",
        "    batch_size=BATCH_SIZE,\n",
        "    epochs=NUM_EPOCHS,\n",
        ")"
      ]
    },
    {
      "cell_type": "code",
      "execution_count": null,
      "id": "e755e8bd",
      "metadata": {
        "id": "e755e8bd",
        "outputId": "fee61827-a357-4989-8e16-6584782fd5db"
      },
      "outputs": [
        {
          "name": "stdout",
          "output_type": "stream",
          "text": [
            "60/60 [==============================] - 0s 951us/step - loss: 0.5328 - accuracy: 0.8096\n"
          ]
        },
        {
          "data": {
            "text/plain": [
              "{'loss': 0.5327904224395752, 'accuracy': 0.8095738887786865}"
            ]
          },
          "execution_count": 30,
          "metadata": {},
          "output_type": "execute_result"
        }
      ],
      "source": [
        "classifier.evaluate(x=x_val, y=y_val, return_dict=True)"
      ]
    },
    {
      "cell_type": "markdown",
      "id": "BX82EzmxHIxu",
      "metadata": {
        "id": "BX82EzmxHIxu"
      },
      "source": [
        "The accuracy is quite good at face value. However, due to the class imbalance, this number can be misleading. For example, if the model is just guessing “Relatedness” most of the time (the dominant class), it could still reach high accuracy without understanding the minority classes (Autonomy, Competence).\n",
        "\n",
        "For a better evaluation use additional metrics like:\n",
        "\n",
        "Precision, Recall, F1-score (especially macro F1),\n",
        "\n"
      ]
    },
    {
      "cell_type": "code",
      "execution_count": null,
      "id": "3774af66",
      "metadata": {
        "id": "3774af66"
      },
      "outputs": [],
      "source": [
        "# Save the model\n",
        "classifier.save(\"model.h5\")\n"
      ]
    },
    {
      "cell_type": "markdown",
      "id": "976Mnl8JdS3G",
      "metadata": {
        "id": "976Mnl8JdS3G"
      },
      "source": [
        "## Test the network with new tweets\n",
        "\n",
        "Now that our model is nd is good enough to play with,, we can experiment by testing it on new, manually crafted tweets to evaluate how well it generalizes beyond the training data.\n"
      ]
    },
    {
      "cell_type": "markdown",
      "id": "HcoBLbNCGQyb",
      "metadata": {
        "id": "HcoBLbNCGQyb"
      },
      "source": [
        "Below is another version of the function for the embedding, see\n",
        "https://www.kaggle.com/code/lucabis/day-2-classification-embedding-keras"
      ]
    },
    {
      "cell_type": "code",
      "execution_count": null,
      "id": "bfb1c37c",
      "metadata": {
        "id": "bfb1c37c"
      },
      "outputs": [],
      "source": [
        "#Another Function for embedding\n",
        "\n",
        "from google.api_core import retry\n",
        "import tqdm\n",
        "from tqdm.rich import tqdm as tqdmr\n",
        "import warnings\n",
        "\n",
        "# Add tqdm to Pandas...\n",
        "tqdmr.pandas()\n",
        "\n",
        "# ...But suppress the experimental warning.\n",
        "warnings.filterwarnings(\"ignore\", category=tqdm.TqdmExperimentalWarning)\n",
        "\n",
        "# Define a helper to retry when per-minute quota is reached.\n",
        "is_retriable = lambda e: (isinstance(e, genai.errors.APIError) and e.code in {429, 503})\n",
        "\n",
        "@retry.Retry(predicate=is_retriable, timeout=300.0)\n",
        "def embed_fn(text: str) -> list[float]:\n",
        "    # You will be performing classification, so set task_type accordingly.\n",
        "    response = client.models.embed_content(\n",
        "        model=\"models/text-embedding-004\",\n",
        "        contents=text,\n",
        "        config=types.EmbedContentConfig(\n",
        "            task_type=\"classification\",\n",
        "        ),\n",
        "    )\n",
        "\n",
        "    return response.embeddings[0].values\n"
      ]
    },
    {
      "cell_type": "code",
      "execution_count": null,
      "id": "469ce453",
      "metadata": {
        "id": "469ce453"
      },
      "outputs": [],
      "source": [
        "def make_prediction(text: str) -> list[float]:\n",
        "    \"\"\"Infer categories from the provided text.\"\"\"\n",
        "    # Remember that the model takes embeddings as input, so calculate them first.\n",
        "    embedded = embed_fn(text)\n",
        "\n",
        "    # And recall that the input must be batched, so here they are wrapped as a\n",
        "    # list to provide a batch of 1.\n",
        "    inp = np.array([embedded])\n",
        "\n",
        "    # And un-batched here.\n",
        "    [result] = classifier.predict(inp)\n",
        "    return result"
      ]
    },
    {
      "cell_type": "code",
      "execution_count": null,
      "id": "d21ac8aa",
      "metadata": {
        "id": "d21ac8aa"
      },
      "outputs": [],
      "source": [
        "text = \"\"\"\n",
        "App locked me out of the car and its freezing #ThanksTech #firstworldproblems\n",
        "\"\"\"\n",
        "\n",
        "# Assuming 'embed_fn' is available from 'make_embed_text_fn'\n",
        "embedded = embed_fn([text])  # This will give the embedding for your input text\n",
        "\n",
        "# Predict\n",
        "result = classifier.predict(np.array([embedded]))  # Classifier predicts probabilities for each class\n",
        "\n",
        "# Iterate over the three classes: 0, 1, 2 (Autonomy, Competence, Relatedness)\n",
        "for idx in range(3):  # Loop over the 3 classes\n",
        "    # Print each class label and its predicted probability\n",
        "    print(f\"Class {idx} ({le.classes_[idx]}): {result[0][idx] * 100:.2f}%\")\n"
      ]
    },
    {
      "cell_type": "markdown",
      "id": "IE_oUN8YZxMh",
      "metadata": {
        "id": "IE_oUN8YZxMh"
      },
      "source": [
        "1/1 [==============================] - 0s 9ms/step\n",
        "\n",
        "Class 0 (Autonomy): 63.89%\n",
        "\n",
        "Class 1 (Competence): 14.36%\n",
        "\n",
        "Class 2 (Relatedness): 21.74%"
      ]
    },
    {
      "cell_type": "markdown",
      "id": "I0qR-5Mte8IF",
      "metadata": {
        "id": "I0qR-5Mte8IF"
      },
      "source": [
        "The model confidently classifies this tweet as expressing Autonomy (63.89%). This might be a signla of improved generalization: note that the tweet’s structure and theme closely mirror the earlier “laptop crash” example used for prompting (both highlight loss of control due to technology) indicating the model likely learned to associate such patterns with autonomy-related needs."
      ]
    }
  ],
  "metadata": {
    "colab": {
      "collapsed_sections": [
        "A_94-Y0SOsy0",
        "b27ddd1d",
        "ddb34b87"
      ],
      "provenance": []
    },
    "kernelspec": {
      "display_name": "Python 3",
      "language": "python",
      "name": "python3"
    },
    "language_info": {
      "codemirror_mode": {
        "name": "ipython",
        "version": 3
      },
      "file_extension": ".py",
      "mimetype": "text/x-python",
      "name": "python",
      "nbconvert_exporter": "python",
      "pygments_lexer": "ipython3",
      "version": "3.10.12"
    }
  },
  "nbformat": 4,
  "nbformat_minor": 5
}
